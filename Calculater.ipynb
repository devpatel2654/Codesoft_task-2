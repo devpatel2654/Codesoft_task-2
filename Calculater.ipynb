{
 "cells": [
  {
   "cell_type": "code",
   "execution_count": 1,
   "id": "bb5ce0f1-51b2-4334-9bed-33c1ab621481",
   "metadata": {},
   "outputs": [
    {
     "name": "stdin",
     "output_type": "stream",
     "text": [
      "Enter the first number: 8\n",
      "enter any one operator(+,-,*,/): *\n",
      "Enter the second number: 6\n"
     ]
    },
    {
     "name": "stdout",
     "output_type": "stream",
     "text": [
      "48\n",
      "thank you\n"
     ]
    }
   ],
   "source": [
    "# basic calculator\n",
    "\n",
    "a = int(input(\"Enter the first number:\"))\n",
    "op = input('enter any one operator(+,-,*,/):')\n",
    "b = int(input(\"Enter the second number:\"))\n",
    "\n",
    "if (op == '+'):\n",
    "    print(a + b)\n",
    "elif (op == '-'):\n",
    "    print(a - b)\n",
    "elif (op == '*'):\n",
    "    print(a * b)\n",
    "elif (op == '/'):\n",
    "    print(a / b)\n",
    "print('thank you')"
   ]
  },
  {
   "cell_type": "code",
   "execution_count": null,
   "id": "7e6de17f-ecad-4e77-a0cc-c7dfb73e4c80",
   "metadata": {},
   "outputs": [],
   "source": []
  }
 ],
 "metadata": {
  "kernelspec": {
   "display_name": "Python 3 (ipykernel)",
   "language": "python",
   "name": "python3"
  },
  "language_info": {
   "codemirror_mode": {
    "name": "ipython",
    "version": 3
   },
   "file_extension": ".py",
   "mimetype": "text/x-python",
   "name": "python",
   "nbconvert_exporter": "python",
   "pygments_lexer": "ipython3",
   "version": "3.12.4"
  }
 },
 "nbformat": 4,
 "nbformat_minor": 5
}
